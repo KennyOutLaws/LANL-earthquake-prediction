{
 "cells": [
  {
   "cell_type": "code",
   "execution_count": null,
   "metadata": {
    "_cell_guid": "b1076dfc-b9ad-4769-8c92-a6c4dae69d19",
    "_uuid": "8f2839f25d086af736a60e9eeb907d3b93b6e0e5"
   },
   "outputs": [],
   "source": [
    "# This Python 3 environment comes with many helpful analytics libraries installed\n",
    "# It is defined by the kaggle/python docker image: https://github.com/kaggle/docker-python\n",
    "# For example, here's several helpful packages to load in \n",
    "\n",
    "import numpy as np # linear algebra\n",
    "import pandas as pd # data processing, CSV file I/O (e.g. pd.read_csv)\n",
    "\n",
    "# Input data files are available in the \"../input/\" directory.\n",
    "# For example, running this (by clicking run or pressing Shift+Enter) will list the files in the input directory\n",
    "from sklearn.linear_model import Lasso,Ridge\n",
    "import os\n",
    "print(os.listdir(\"../input\"))\n",
    "import lightgbm as lgb\n",
    "from sklearn.model_selection import KFold\n",
    "import seaborn as sns\n",
    "from sklearn import metrics\n",
    "import time\n",
    "from sklearn.svm import LinearSVR\n",
    "# Any results you write to the current directory are saved as output."
   ]
  },
  {
   "cell_type": "code",
   "execution_count": null,
   "metadata": {
    "_cell_guid": "79c7e3d0-c299-4dcb-8224-4455121ee9b0",
    "_uuid": "d629ff2d2480ee46fbb7e2d37f6b5fab8052498a"
   },
   "outputs": [],
   "source": [
    "# 把catboost,lightgbm,nn,xgb的验证集输出做交叉验证的训练集\n",
    "cat_oof=pd.read_csv('../input/catboost-based-method/cat_oof.csv')['oof']\n",
    "lgb_oof=pd.read_csv('../input/lightgbm-based-model/lgb_oof.csv')['oof']\n",
    "nn_oof=pd.read_csv('../input/nn-based-method/nn_oof.csv')['oof']\n",
    "xgb_oof=pd.read_csv('../input/xgboost-based-model/xgb_oof.csv')['oof']\n",
    "\n",
    "# 读取y\n",
    "y_0 = pd.read_csv(\"../input/feature1/train_y.csv\", index_col=False,  header=None)\n",
    "y_1 = pd.read_csv(\"../input/feature2/train_y1.csv\", index_col=False,  header=None)\n",
    "y = pd.concat([y_0, y_1], axis=0)\n",
    "y = y.reset_index(drop=True)\n",
    "\n",
    "# catboost,lightgbm,nn,xgb的预测结果\n",
    "cat_pred=pd.read_csv('../input/catboost-based-method/CatBoost_submission_1.242.csv')['time_to_failure']\n",
    "nn_pred=pd.read_csv('../input/nn-based-method/NN_submission_1.355.csv')['time_to_failure']\n",
    "lgb_pred=pd.read_csv('../input/lightgbm-based-model/lgb_submission_0.929.csv')['time_to_failure']\n",
    "xgb_pred=pd.read_csv('../input/xgboost-based-model/xgb_submission_1.031.csv')['time_to_failure']"
   ]
  },
  {
   "cell_type": "code",
   "execution_count": null,
   "metadata": {},
   "outputs": [],
   "source": [
    "cat_oof.head()"
   ]
  },
  {
   "cell_type": "code",
   "execution_count": null,
   "metadata": {},
   "outputs": [],
   "source": [
    "nn_oof.head()"
   ]
  },
  {
   "cell_type": "code",
   "execution_count": null,
   "metadata": {},
   "outputs": [],
   "source": [
    "xgb_oof.head()"
   ]
  },
  {
   "cell_type": "code",
   "execution_count": null,
   "metadata": {},
   "outputs": [],
   "source": [
    "#把cat_oof,xgb_oof,lgb_oof,nn_oof合成训练集\n",
    "train_stack = np.vstack([cat_oof,xgb_oof,lgb_oof,nn_oof]).transpose()\n",
    "train_stack = pd.DataFrame(train_stack, columns=['cat','xgb','lgb','nn'])\n",
    "train_stack.shape\n",
    "\n",
    "#把 cat_pred,xgb_pred,lgb_pred,nn_pred合成测试集\n",
    "test_stack = np.vstack([cat_pred,xgb_pred,lgb_pred,nn_pred]).transpose()\n",
    "test_stack = pd.DataFrame(test_stack, columns=['cat','xgb','lgb','nn'])\n"
   ]
  },
  {
   "cell_type": "code",
   "execution_count": null,
   "metadata": {},
   "outputs": [],
   "source": [
    "# 构造stacking模型\n",
    "model=Ridge()\n",
    "model.fit(train_stack,y)\n",
    "r1=model.predict(test_stack).reshape(-1)"
   ]
  },
  {
   "cell_type": "code",
   "execution_count": null,
   "metadata": {},
   "outputs": [],
   "source": [
    "# 将结果输出\n",
    "submission = pd.read_csv('../input/LANL-Earthquake-Prediction/sample_submission.csv')\n",
    "submission['time_to_failure'] =r1\n",
    "print(submission.head())\n",
    "submission.to_csv('stacking.csv',index=False)\n"
   ]
  }
 ],
 "metadata": {
  "kernelspec": {
   "display_name": "Python 3",
   "language": "python",
   "name": "python3"
  },
  "language_info": {
   "codemirror_mode": {
    "name": "ipython",
    "version": 3
   },
   "file_extension": ".py",
   "mimetype": "text/x-python",
   "name": "python",
   "nbconvert_exporter": "python",
   "pygments_lexer": "ipython3",
   "version": "3.6.5"
  }
 },
 "nbformat": 4,
 "nbformat_minor": 1
}
